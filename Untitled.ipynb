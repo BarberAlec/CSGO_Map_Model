{
 "cells": [
  {
   "cell_type": "code",
   "execution_count": 1,
   "metadata": {},
   "outputs": [],
   "source": [
    "%load_ext autoreload\n",
    "%autoreload 2\n",
    "\n",
    "import loaders"
   ]
  },
  {
   "cell_type": "code",
   "execution_count": 6,
   "metadata": {},
   "outputs": [
    {
     "name": "stdout",
     "output_type": "stream",
     "text": [
      "Loading game 0\n",
      "Round  0\n",
      "Round 0 ended\n",
      "Round  1\n",
      "Round 1 ended\n",
      "Round  2\n",
      "Round 2 ended\n",
      "Round  3\n",
      "Round 3 ended\n",
      "Round  4\n",
      "Round 4 ended\n",
      "Round  5\n",
      "Round 5 ended\n",
      "Round  6\n",
      "Round 6 ended\n",
      "Round  7\n",
      "Round 7 ended\n",
      "Round  8\n",
      "Round 8 ended\n",
      "Round  9\n",
      "Round 9 ended\n",
      "Round  10\n",
      "Round 10 ended\n",
      "Round  11\n",
      "Round 11 ended\n",
      "Round  12\n",
      "Round 12 ended\n",
      "Round  13\n",
      "Round 13 ended\n",
      "Round  14\n",
      "Round 14 ended\n",
      "Round  15\n",
      "Round 15 ended\n",
      "Round  16\n",
      "Round 16 ended\n",
      "Round  17\n",
      "Round 17 ended\n",
      "Round  18\n",
      "Round 18 ended\n",
      "Round  19\n",
      "Round 19 ended\n",
      "Round  20\n",
      "Round 20 ended\n",
      "Round  21\n",
      "Round 21 ended\n",
      "Round  22\n",
      "Round 22 ended\n",
      "Round  23\n",
      "Round 23 ended\n",
      "Round  24\n",
      "Round 24 ended\n",
      "Round  25\n",
      "Round 25 ended\n",
      "Finished loading game!\n"
     ]
    }
   ],
   "source": [
    "g = loaders.Game(0)"
   ]
  },
  {
   "cell_type": "code",
   "execution_count": 8,
   "metadata": {},
   "outputs": [],
   "source": [
    "r = g.m_rounds[0]\n",
    "\n",
    "r "
   ]
  },
  {
   "cell_type": "code",
   "execution_count": null,
   "metadata": {},
   "outputs": [],
   "source": [
    "\n",
    "\n",
    "\n",
    "\n",
    "\n",
    "\n",
    "\n",
    "\n",
    "\n",
    "\n",
    "\n",
    "\n",
    "\n",
    "\n",
    "\n",
    "\n",
    "\n",
    "\n",
    "\n",
    "\n",
    "\n",
    "\n",
    "\n",
    "\n"
   ]
  }
 ],
 "metadata": {
  "kernelspec": {
   "display_name": "cv",
   "language": "python",
   "name": "cv"
  },
  "language_info": {
   "codemirror_mode": {
    "name": "ipython",
    "version": 3
   },
   "file_extension": ".py",
   "mimetype": "text/x-python",
   "name": "python",
   "nbconvert_exporter": "python",
   "pygments_lexer": "ipython3",
   "version": "3.5.2"
  }
 },
 "nbformat": 4,
 "nbformat_minor": 2
}
